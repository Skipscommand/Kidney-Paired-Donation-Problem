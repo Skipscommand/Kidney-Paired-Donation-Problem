{
 "cells": [
  {
   "cell_type": "code",
   "execution_count": 1,
   "id": "a73df851-afa0-4551-8548-1aa2a9a1b144",
   "metadata": {},
   "outputs": [],
   "source": [
    "import json\n",
    "import networkx as nx\n",
    "import matplotlib.pyplot as plt"
   ]
  },
  {
   "cell_type": "code",
   "execution_count": 2,
   "id": "44ce3afd-2934-47bb-9ac2-94d4cffa667e",
   "metadata": {},
   "outputs": [],
   "source": [
    "# Import and store data\n",
    "with open('One_Team.json', 'r') as file:\n",
    "    data = json.load(file)"
   ]
  },
  {
   "cell_type": "code",
   "execution_count": 3,
   "id": "14350407-92ef-4dc4-96e7-d5ff349b5b1f",
   "metadata": {},
   "outputs": [],
   "source": [
    "# Create a network\n",
    "G = nx.DiGraph()\n",
    "\n",
    "# Create nodes (patient pairs) for network\n",
    "counter = 0\n",
    "for element in data:\n",
    "    G.add_nodes_from([(counter, element)])\n",
    "    counter += 1\n",
    "\n",
    "# Compatibility requirement\n",
    "donor_recipient_compatibility = {'O': ['O', 'A', 'B', 'AB'], 'A': ['A', 'AB'], 'B':['B', 'AB'], 'AB':['AB']}\n",
    "\n",
    "# Create edges (relations)\n",
    "for node in G.nodes:\n",
    "    donors = G.nodes[node]['Donor']\n",
    "    for donor in donors:\n",
    "        for vertex in G.nodes:\n",
    "            if node == vertex: continue\n",
    "            recipient = G.nodes[vertex]['Recipient']\n",
    "            if recipient not in donor_recipient_compatibility[donor]: continue\n",
    "            G.add_edge(node, vertex)    "
   ]
  },
  {
   "cell_type": "code",
   "execution_count": 4,
   "id": "51620b45-3145-4f41-9f69-899de3a1ce35",
   "metadata": {},
   "outputs": [
    {
     "name": "stderr",
     "output_type": "stream",
     "text": [
      "IOPub data rate exceeded.\n",
      "The Jupyter server will temporarily stop sending output\n",
      "to the client in order to avoid crashing it.\n",
      "To change this limit, set the config variable\n",
      "`--ServerApp.iopub_data_rate_limit`.\n",
      "\n",
      "Current values:\n",
      "ServerApp.iopub_data_rate_limit=1000000.0 (bytes/sec)\n",
      "ServerApp.rate_limit_window=3.0 (secs)\n",
      "\n"
     ]
    },
    {
     "name": "stdout",
     "output_type": "stream",
     "text": [
      "cycle_3: []\n"
     ]
    }
   ],
   "source": [
    "# Find cycles of length 3\n",
    "\n",
    "potential_cycle_3 = []\n",
    "\n",
    "H = G.to_undirected()\n",
    "\n",
    "for (u,v) in H.edges:\n",
    "    for k in nx.common_neighbors(H, u, v):\n",
    "        potential_cycle_3.append((u,v,k))\n",
    "        \n",
    "print(\"potential_cycle_3:\", potential_cycle_3)        \n",
    "        \n",
    "cycle_3 = [] \n",
    "\n",
    "for (u,v,k) in potential_cycle_3:\n",
    "    if (u,v) in G.edges and (v,k) in G.edges and (k,u) in G.edges: \n",
    "        cycle_3.append((u,v,k,u)) \n",
    "        \n",
    "print(\"cycle_3:\", cycle_3) "
   ]
  },
  {
   "cell_type": "code",
   "execution_count": 5,
   "id": "d3dbc7f1-c93a-4320-8538-21fd63f849bd",
   "metadata": {},
   "outputs": [],
   "source": [
    "# Find cycles of length 2\n",
    "\n",
    "full_cycle_2 = []\n",
    "short_cycle_2 = []\n",
    "\n",
    "for (i,j) in G.edges:\n",
    "    G.edges[(i,j)][\"visited\"] = False\n",
    "\n",
    "for (u,v) in H.edges:\n",
    "    if (u,v) in G.edges and G.edges[(u,v)][\"visited\"] == True: continue\n",
    "    if (u,v) in G.edges and (v,u) in G.edges:\n",
    "        full_cycle_2.append((u,v,u))\n",
    "        short_cycle_2.append([u,v])\n",
    "        G.edges[(u,v)][\"visited\"] = True"
   ]
  },
  {
   "cell_type": "code",
   "execution_count": 6,
   "id": "4e8b882a-f97d-4e77-83e9-eae01ec0b79f",
   "metadata": {},
   "outputs": [
    {
     "name": "stdout",
     "output_type": "stream",
     "text": [
      "Set parameter Username\n",
      "Set parameter LicenseID to value 2593705\n",
      "Academic license - for non-commercial use only - expires 2025-12-01\n",
      "Gurobi Optimizer version 12.0.0 build v12.0.0rc1 (win64 - Windows 10.0 (19045.2))\n",
      "\n",
      "CPU model: Intel(R) Core(TM) i7-8750H CPU @ 2.20GHz, instruction set [SSE2|AVX|AVX2]\n",
      "Thread count: 6 physical cores, 12 logical processors, using up to 12 threads\n",
      "\n",
      "Optimize a model with 34190 rows, 176760 columns and 373152 nonzeros\n",
      "Model fingerprint: 0xe93a737e\n",
      "Variable types: 0 continuous, 176760 integer (176760 binary)\n",
      "Coefficient statistics:\n",
      "  Matrix range     [1e+00, 1e+00]\n",
      "  Objective range  [1e+00, 1e+00]\n",
      "  Bounds range     [1e+00, 1e+00]\n",
      "  RHS range        [1e+00, 1e+00]\n",
      "Found heuristic solution: objective -0.0000000\n",
      "Presolve removed 33827 rows and 144028 columns\n",
      "Presolve time: 0.25s\n",
      "Presolved: 363 rows, 32732 columns, 65464 nonzeros\n",
      "Variable types: 0 continuous, 32732 integer (32732 binary)\n",
      "Found heuristic solution: objective 334.0000000\n",
      "\n",
      "Starting sifting (using dual simplex for sub-problems)...\n",
      "\n",
      "    Iter     Pivots    Primal Obj      Dual Obj        Time\n",
      "       0          0     infinity     -7.2400000e+02      0s\n",
      "       1        463  -2.0000000e+01  -3.7000000e+02      0s\n",
      "       2       1208  -3.3395183e+02  -3.3395185e+02      0s\n",
      "\n",
      "Sifting complete\n",
      "\n",
      "\n",
      "Root relaxation: cutoff, 1567 iterations, 0.05 seconds (0.03 work units)\n",
      "\n",
      "    Nodes    |    Current Node    |     Objective Bounds      |     Work\n",
      " Expl Unexpl |  Obj  Depth IntInf | Incumbent    BestBd   Gap | It/Node Time\n",
      "\n",
      "     0     0     cutoff    0       334.00000  334.00000  0.00%     -    0s\n",
      "\n",
      "Explored 1 nodes (1567 simplex iterations) in 0.40 seconds (0.22 work units)\n",
      "Thread count was 12 (of 12 available processors)\n",
      "\n",
      "Solution count 2: 334 -0 \n",
      "\n",
      "Optimal solution found (tolerance 1.00e-04)\n",
      "Best objective 3.340000000000e+02, best bound 3.340000000000e+02, gap 0.0000%\n"
     ]
    }
   ],
   "source": [
    "# Optimization\n",
    "import gurobipy as gp\n",
    "from gurobipy import GRB\n",
    "\n",
    "# Create model object\n",
    "m = gp.Model()\n",
    "\n",
    "# Create variable for each edge\n",
    "x = m.addVars(G.edges, vtype=GRB.BINARY)\n",
    "\n",
    "# Objective function: maximize number of edges\n",
    "m.setObjective(gp.quicksum(x[e] for e in G.edges), GRB.MAXIMIZE)\n",
    "\n",
    "# The number of incomming arcs to each vertex is at most one\n",
    "m.addConstrs(gp.quicksum(x[(u,v)] for u in G.neighbors(v) if (u,v) in G.edges) <= 1 for v in G.nodes)\n",
    "\n",
    "# The number of incomming arcs should be equal to the number of outgoing arcs\n",
    "m.addConstrs(gp.quicksum(x[(u,v)] for u in G.neighbors(v) if (u,v) in G.edges) == gp.quicksum(x[(v,u)] for u in G.neighbors(v) if (v,u) in G.edges) for v in G.nodes)\n",
    "\n",
    "# If one edge is selected, the counterpart must be selected too\n",
    "final_cycles = []\n",
    "for (u,v) in short_cycle_2:\n",
    "    if (u,v) in G.edges and (v,u) in G.edges:\n",
    "        m.addConstr(x[(u,v)] == x[(v,u)])    \n",
    " \n",
    "# Solve\n",
    "m.optimize()"
   ]
  },
  {
   "cell_type": "code",
   "execution_count": 7,
   "id": "ae60252e-ec26-42f5-9762-fd844cb14f7b",
   "metadata": {},
   "outputs": [
    {
     "name": "stdout",
     "output_type": "stream",
     "text": [
      "Average donors needed to find a match in this population:  50.461077844311376\n",
      "Unmatched recipients: 395 out of 729\n"
     ]
    }
   ],
   "source": [
    "# Exporting data for Excel to work with, and find some statistics since numpy is already imported\n",
    "import numpy\n",
    "\n",
    "selected_edges = [e for e in G.edges if x[e].X > 0.5]\n",
    "selected_0 = []\n",
    "selected_1 = []\n",
    "averager = []\n",
    "\n",
    "\n",
    "for tuple in selected_edges:\n",
    "    selected_0.append(tuple[0])\n",
    "    selected_1.append(tuple[1])\n",
    "    difference = abs(tuple[0] - tuple[1])\n",
    "    averager.append(difference)\n",
    "\n",
    "numpy.transpose(selected_0)\n",
    "numpy.transpose(selected_1)\n",
    "\n",
    "average = numpy.average(averager)\n",
    "\n",
    "print(\"Average donors needed to find a match in this population: \", average)\n",
    "print(\"Unmatched recipients:\", (len(G.nodes) - len(selected_edges)), \"out of\", len(G.nodes))\n",
    "\n",
    "with open('Approved_Surgeries_0.json', 'w') as file:\n",
    "    json.dump(selected_0, file)\n",
    "\n",
    "with open('Approved_Surgeries_1.json', 'w') as file:\n",
    "    json.dump(selected_1, file)\n",
    "\n",
    "with open('One_Team_Approved_Surgeries.json', 'w') as file:\n",
    "    json.dump(final_cycles, file)\n",
    "\n",
    "with open('cycless.json', 'w') as file:\n",
    "    json.dump(short_cycle_2, file)"
   ]
  }
 ],
 "metadata": {
  "kernelspec": {
   "display_name": "Python 3 (ipykernel)",
   "language": "python",
   "name": "python3"
  },
  "language_info": {
   "codemirror_mode": {
    "name": "ipython",
    "version": 3
   },
   "file_extension": ".py",
   "mimetype": "text/x-python",
   "name": "python",
   "nbconvert_exporter": "python",
   "pygments_lexer": "ipython3",
   "version": "3.12.7"
  }
 },
 "nbformat": 4,
 "nbformat_minor": 5
}
